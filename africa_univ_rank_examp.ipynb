{
 "cells": [
  {
   "cell_type": "markdown",
   "id": "799622a5",
   "metadata": {},
   "source": [
    "### Importing libraries"
   ]
  },
  {
   "cell_type": "code",
   "execution_count": 3,
   "id": "b914d1b5",
   "metadata": {},
   "outputs": [],
   "source": [
    "import pandas as pd \n",
    "import numpy as np \n",
    "import pycountry \n"
   ]
  },
  {
   "cell_type": "markdown",
   "id": "2ad85582",
   "metadata": {},
   "source": [
    "### Importing the University rankings in 2023 csv file"
   ]
  },
  {
   "cell_type": "code",
   "execution_count": 4,
   "id": "d1cd14bc",
   "metadata": {},
   "outputs": [],
   "source": [
    "#importing the csv file\n",
    "data = pd.read_csv(\"C:/Users/IMMAN.S.C.OGAL/Downloads/african-university-rankings/ScimagoIR 2023 - Overall Rank - Universities - Africa.csv\" )\n"
   ]
  },
  {
   "cell_type": "code",
   "execution_count": 5,
   "id": "501598e7",
   "metadata": {},
   "outputs": [
    {
     "data": {
      "text/plain": [
       "(264, 6)"
      ]
     },
     "execution_count": 5,
     "metadata": {},
     "output_type": "execute_result"
    }
   ],
   "source": [
    "data.shape"
   ]
  },
  {
   "cell_type": "code",
   "execution_count": 6,
   "id": "ed659e3d",
   "metadata": {},
   "outputs": [
    {
     "data": {
      "text/html": [
       "<div>\n",
       "<style scoped>\n",
       "    .dataframe tbody tr th:only-of-type {\n",
       "        vertical-align: middle;\n",
       "    }\n",
       "\n",
       "    .dataframe tbody tr th {\n",
       "        vertical-align: top;\n",
       "    }\n",
       "\n",
       "    .dataframe thead th {\n",
       "        text-align: right;\n",
       "    }\n",
       "</style>\n",
       "<table border=\"1\" class=\"dataframe\">\n",
       "  <thead>\n",
       "    <tr style=\"text-align: right;\">\n",
       "      <th></th>\n",
       "      <th>Rank</th>\n",
       "      <th>Global Rank</th>\n",
       "      <th>Institution</th>\n",
       "      <th>Country</th>\n",
       "      <th>Sector</th>\n",
       "      <th>Best Country Quartile</th>\n",
       "    </tr>\n",
       "  </thead>\n",
       "  <tbody>\n",
       "    <tr>\n",
       "      <th>0</th>\n",
       "      <td>1</td>\n",
       "      <td>995</td>\n",
       "      <td>University of Cape Town</td>\n",
       "      <td>ZAF</td>\n",
       "      <td>Universities</td>\n",
       "      <td>1.0</td>\n",
       "    </tr>\n",
       "    <tr>\n",
       "      <th>1</th>\n",
       "      <td>2</td>\n",
       "      <td>1125</td>\n",
       "      <td>Cairo University *</td>\n",
       "      <td>EGY</td>\n",
       "      <td>Universities</td>\n",
       "      <td>1.0</td>\n",
       "    </tr>\n",
       "    <tr>\n",
       "      <th>2</th>\n",
       "      <td>3</td>\n",
       "      <td>1467</td>\n",
       "      <td>Stellenbosch University</td>\n",
       "      <td>ZAF</td>\n",
       "      <td>Universities</td>\n",
       "      <td>1.0</td>\n",
       "    </tr>\n",
       "    <tr>\n",
       "      <th>3</th>\n",
       "      <td>4</td>\n",
       "      <td>1565</td>\n",
       "      <td>University of the Witwatersrand</td>\n",
       "      <td>ZAF</td>\n",
       "      <td>Universities</td>\n",
       "      <td>1.0</td>\n",
       "    </tr>\n",
       "    <tr>\n",
       "      <th>4</th>\n",
       "      <td>5</td>\n",
       "      <td>1629</td>\n",
       "      <td>University of Pretoria</td>\n",
       "      <td>ZAF</td>\n",
       "      <td>Universities</td>\n",
       "      <td>1.0</td>\n",
       "    </tr>\n",
       "    <tr>\n",
       "      <th>5</th>\n",
       "      <td>6</td>\n",
       "      <td>1843</td>\n",
       "      <td>University of KwaZulu-Natal *</td>\n",
       "      <td>ZAF</td>\n",
       "      <td>Universities</td>\n",
       "      <td>1.0</td>\n",
       "    </tr>\n",
       "    <tr>\n",
       "      <th>6</th>\n",
       "      <td>7</td>\n",
       "      <td>2506</td>\n",
       "      <td>Ain Shams University *</td>\n",
       "      <td>EGY</td>\n",
       "      <td>Universities</td>\n",
       "      <td>1.0</td>\n",
       "    </tr>\n",
       "    <tr>\n",
       "      <th>7</th>\n",
       "      <td>8</td>\n",
       "      <td>2630</td>\n",
       "      <td>Alexandria University *</td>\n",
       "      <td>EGY</td>\n",
       "      <td>Universities</td>\n",
       "      <td>1.0</td>\n",
       "    </tr>\n",
       "    <tr>\n",
       "      <th>8</th>\n",
       "      <td>9</td>\n",
       "      <td>2655</td>\n",
       "      <td>University of Johannesburg</td>\n",
       "      <td>ZAF</td>\n",
       "      <td>Universities</td>\n",
       "      <td>1.0</td>\n",
       "    </tr>\n",
       "    <tr>\n",
       "      <th>9</th>\n",
       "      <td>10</td>\n",
       "      <td>2927</td>\n",
       "      <td>Mansoura University *</td>\n",
       "      <td>EGY</td>\n",
       "      <td>Universities</td>\n",
       "      <td>1.0</td>\n",
       "    </tr>\n",
       "  </tbody>\n",
       "</table>\n",
       "</div>"
      ],
      "text/plain": [
       "   Rank  Global Rank                      Institution Country        Sector  \\\n",
       "0     1          995          University of Cape Town     ZAF  Universities   \n",
       "1     2         1125               Cairo University *     EGY  Universities   \n",
       "2     3         1467          Stellenbosch University     ZAF  Universities   \n",
       "3     4         1565  University of the Witwatersrand     ZAF  Universities   \n",
       "4     5         1629           University of Pretoria     ZAF  Universities   \n",
       "5     6         1843    University of KwaZulu-Natal *     ZAF  Universities   \n",
       "6     7         2506           Ain Shams University *     EGY  Universities   \n",
       "7     8         2630          Alexandria University *     EGY  Universities   \n",
       "8     9         2655       University of Johannesburg     ZAF  Universities   \n",
       "9    10         2927            Mansoura University *     EGY  Universities   \n",
       "\n",
       "   Best Country Quartile  \n",
       "0                    1.0  \n",
       "1                    1.0  \n",
       "2                    1.0  \n",
       "3                    1.0  \n",
       "4                    1.0  \n",
       "5                    1.0  \n",
       "6                    1.0  \n",
       "7                    1.0  \n",
       "8                    1.0  \n",
       "9                    1.0  "
      ]
     },
     "execution_count": 6,
     "metadata": {},
     "output_type": "execute_result"
    }
   ],
   "source": [
    "data.head(10)"
   ]
  },
  {
   "cell_type": "code",
   "execution_count": 7,
   "id": "c39c7415",
   "metadata": {},
   "outputs": [
    {
     "data": {
      "text/html": [
       "<div>\n",
       "<style scoped>\n",
       "    .dataframe tbody tr th:only-of-type {\n",
       "        vertical-align: middle;\n",
       "    }\n",
       "\n",
       "    .dataframe tbody tr th {\n",
       "        vertical-align: top;\n",
       "    }\n",
       "\n",
       "    .dataframe thead th {\n",
       "        text-align: right;\n",
       "    }\n",
       "</style>\n",
       "<table border=\"1\" class=\"dataframe\">\n",
       "  <thead>\n",
       "    <tr style=\"text-align: right;\">\n",
       "      <th></th>\n",
       "      <th>Rank</th>\n",
       "      <th>Global Rank</th>\n",
       "      <th>Best Country Quartile</th>\n",
       "    </tr>\n",
       "  </thead>\n",
       "  <tbody>\n",
       "    <tr>\n",
       "      <th>count</th>\n",
       "      <td>264.000000</td>\n",
       "      <td>264.000000</td>\n",
       "      <td>263.000000</td>\n",
       "    </tr>\n",
       "    <tr>\n",
       "      <th>mean</th>\n",
       "      <td>132.420455</td>\n",
       "      <td>6503.185606</td>\n",
       "      <td>1.688213</td>\n",
       "    </tr>\n",
       "    <tr>\n",
       "      <th>std</th>\n",
       "      <td>76.321521</td>\n",
       "      <td>1529.420641</td>\n",
       "      <td>0.900453</td>\n",
       "    </tr>\n",
       "    <tr>\n",
       "      <th>min</th>\n",
       "      <td>1.000000</td>\n",
       "      <td>995.000000</td>\n",
       "      <td>1.000000</td>\n",
       "    </tr>\n",
       "    <tr>\n",
       "      <th>25%</th>\n",
       "      <td>66.750000</td>\n",
       "      <td>5759.500000</td>\n",
       "      <td>1.000000</td>\n",
       "    </tr>\n",
       "    <tr>\n",
       "      <th>50%</th>\n",
       "      <td>132.500000</td>\n",
       "      <td>6860.000000</td>\n",
       "      <td>1.000000</td>\n",
       "    </tr>\n",
       "    <tr>\n",
       "      <th>75%</th>\n",
       "      <td>198.250000</td>\n",
       "      <td>7736.750000</td>\n",
       "      <td>2.000000</td>\n",
       "    </tr>\n",
       "    <tr>\n",
       "      <th>max</th>\n",
       "      <td>264.000000</td>\n",
       "      <td>8421.000000</td>\n",
       "      <td>4.000000</td>\n",
       "    </tr>\n",
       "  </tbody>\n",
       "</table>\n",
       "</div>"
      ],
      "text/plain": [
       "             Rank  Global Rank  Best Country Quartile\n",
       "count  264.000000   264.000000             263.000000\n",
       "mean   132.420455  6503.185606               1.688213\n",
       "std     76.321521  1529.420641               0.900453\n",
       "min      1.000000   995.000000               1.000000\n",
       "25%     66.750000  5759.500000               1.000000\n",
       "50%    132.500000  6860.000000               1.000000\n",
       "75%    198.250000  7736.750000               2.000000\n",
       "max    264.000000  8421.000000               4.000000"
      ]
     },
     "execution_count": 7,
     "metadata": {},
     "output_type": "execute_result"
    }
   ],
   "source": [
    "data.describe()"
   ]
  },
  {
   "cell_type": "code",
   "execution_count": 8,
   "id": "8a8b3b5c",
   "metadata": {},
   "outputs": [
    {
     "data": {
      "text/plain": [
       "array(['Universities', nan], dtype=object)"
      ]
     },
     "execution_count": 8,
     "metadata": {},
     "output_type": "execute_result"
    }
   ],
   "source": [
    "data[\"Sector\"].unique()"
   ]
  },
  {
   "cell_type": "code",
   "execution_count": 9,
   "id": "a953d66c",
   "metadata": {},
   "outputs": [
    {
     "data": {
      "text/plain": [
       "Universities    263\n",
       "Name: Sector, dtype: int64"
      ]
     },
     "execution_count": 9,
     "metadata": {},
     "output_type": "execute_result"
    }
   ],
   "source": [
    "data['Sector'].value_counts()"
   ]
  },
  {
   "cell_type": "code",
   "execution_count": 10,
   "id": "41b6a9c7",
   "metadata": {},
   "outputs": [],
   "source": [
    "data = data.set_index('Rank')"
   ]
  },
  {
   "cell_type": "code",
   "execution_count": 11,
   "id": "e6cd4912",
   "metadata": {},
   "outputs": [
    {
     "data": {
      "text/html": [
       "<div>\n",
       "<style scoped>\n",
       "    .dataframe tbody tr th:only-of-type {\n",
       "        vertical-align: middle;\n",
       "    }\n",
       "\n",
       "    .dataframe tbody tr th {\n",
       "        vertical-align: top;\n",
       "    }\n",
       "\n",
       "    .dataframe thead th {\n",
       "        text-align: right;\n",
       "    }\n",
       "</style>\n",
       "<table border=\"1\" class=\"dataframe\">\n",
       "  <thead>\n",
       "    <tr style=\"text-align: right;\">\n",
       "      <th></th>\n",
       "      <th>Global Rank</th>\n",
       "      <th>Institution</th>\n",
       "      <th>Country</th>\n",
       "    </tr>\n",
       "    <tr>\n",
       "      <th>Rank</th>\n",
       "      <th></th>\n",
       "      <th></th>\n",
       "      <th></th>\n",
       "    </tr>\n",
       "  </thead>\n",
       "  <tbody>\n",
       "    <tr>\n",
       "      <th>1</th>\n",
       "      <td>995</td>\n",
       "      <td>University of Cape Town</td>\n",
       "      <td>ZAF</td>\n",
       "    </tr>\n",
       "    <tr>\n",
       "      <th>2</th>\n",
       "      <td>1125</td>\n",
       "      <td>Cairo University *</td>\n",
       "      <td>EGY</td>\n",
       "    </tr>\n",
       "    <tr>\n",
       "      <th>3</th>\n",
       "      <td>1467</td>\n",
       "      <td>Stellenbosch University</td>\n",
       "      <td>ZAF</td>\n",
       "    </tr>\n",
       "    <tr>\n",
       "      <th>4</th>\n",
       "      <td>1565</td>\n",
       "      <td>University of the Witwatersrand</td>\n",
       "      <td>ZAF</td>\n",
       "    </tr>\n",
       "    <tr>\n",
       "      <th>5</th>\n",
       "      <td>1629</td>\n",
       "      <td>University of Pretoria</td>\n",
       "      <td>ZAF</td>\n",
       "    </tr>\n",
       "    <tr>\n",
       "      <th>...</th>\n",
       "      <td>...</td>\n",
       "      <td>...</td>\n",
       "      <td>...</td>\n",
       "    </tr>\n",
       "    <tr>\n",
       "      <th>260</th>\n",
       "      <td>8386</td>\n",
       "      <td>Ecole Nationale Superieure d'Ingenieurs de Tunis</td>\n",
       "      <td>TUN</td>\n",
       "    </tr>\n",
       "    <tr>\n",
       "      <th>261</th>\n",
       "      <td>8389</td>\n",
       "      <td>Universite Yahia Fares de Medea</td>\n",
       "      <td>DZA</td>\n",
       "    </tr>\n",
       "    <tr>\n",
       "      <th>262</th>\n",
       "      <td>8402</td>\n",
       "      <td>Universite de Kairouan</td>\n",
       "      <td>TUN</td>\n",
       "    </tr>\n",
       "    <tr>\n",
       "      <th>263</th>\n",
       "      <td>8418</td>\n",
       "      <td>Universite Abbes Laghrour Khenchela</td>\n",
       "      <td>DZA</td>\n",
       "    </tr>\n",
       "    <tr>\n",
       "      <th>264</th>\n",
       "      <td>8421</td>\n",
       "      <td>Ecole Polytechnique de Tunisie</td>\n",
       "      <td>TUN</td>\n",
       "    </tr>\n",
       "  </tbody>\n",
       "</table>\n",
       "<p>264 rows × 3 columns</p>\n",
       "</div>"
      ],
      "text/plain": [
       "      Global Rank                                       Institution Country\n",
       "Rank                                                                       \n",
       "1             995                           University of Cape Town     ZAF\n",
       "2            1125                                Cairo University *     EGY\n",
       "3            1467                           Stellenbosch University     ZAF\n",
       "4            1565                   University of the Witwatersrand     ZAF\n",
       "5            1629                            University of Pretoria     ZAF\n",
       "...           ...                                               ...     ...\n",
       "260          8386  Ecole Nationale Superieure d'Ingenieurs de Tunis     TUN\n",
       "261          8389                   Universite Yahia Fares de Medea     DZA\n",
       "262          8402                            Universite de Kairouan     TUN\n",
       "263          8418               Universite Abbes Laghrour Khenchela     DZA\n",
       "264          8421                    Ecole Polytechnique de Tunisie     TUN\n",
       "\n",
       "[264 rows x 3 columns]"
      ]
     },
     "execution_count": 11,
     "metadata": {},
     "output_type": "execute_result"
    }
   ],
   "source": [
    "data = data.drop(['Sector','Best Country Quartile'],axis=1)\n",
    "data "
   ]
  },
  {
   "cell_type": "markdown",
   "id": "69538a13",
   "metadata": {},
   "source": [
    "#### Splitting the dataframe into multiple dataframes i.e. The top 50 universities , the 2nd top 50 universities\n",
    "- Creating sub-lists\n",
    "- Changing the dataframes to  lists\n",
    "\n",
    "\n",
    " "
   ]
  },
  {
   "cell_type": "code",
   "execution_count": 180,
   "id": "cfc5123d",
   "metadata": {},
   "outputs": [],
   "source": [
    "from random import choice\n",
    "\n",
    "data_list = data.values.tolist()\n",
    "\n",
    "def univ_rank():\n",
    "    univ_list = [data_list[x:x+k] for x in range(0, len(data_list), k)]\n",
    "    random_elements = [choice(sublist) for sublist in univ_list]\n",
    "    return random_elements\n",
    "\n",
    "k = 5\n",
    "\n",
    "\n",
    "\n"
   ]
  },
  {
   "cell_type": "code",
   "execution_count": 199,
   "id": "f84581c3",
   "metadata": {},
   "outputs": [],
   "source": [
    "from random import sample, choice\n",
    "\n",
    "data_list = data.values.tolist()\n",
    "\n",
    "def univ_rank(): \n",
    "    univ_list = [data_list[x:x+k] for x in range(0, len(data_list), k)] # k is number of elements in the sub list\n",
    "    #choosing  random sub lists\n",
    "    random_sublist = sample(univ_list, m)  # m is number of random sub-lists\n",
    "    # random elements from all sub lists\n",
    "    random_elements = [sample(sublist,n) for sublist in univ_list]#n is the number of random elements picked from the sub list\n",
    "    \n",
    "    return  random_sublist\n",
    "\n",
    "k = 10\n",
    "m = 4\n",
    "n = 3\n",
    "\n",
    "\n"
   ]
  },
  {
   "cell_type": "code",
   "execution_count": 201,
   "id": "fcc61a81",
   "metadata": {},
   "outputs": [
    {
     "data": {
      "text/plain": [
       "[[[4955, 'Kwame Nkrumah University of Science and Technology', 'GHA'],\n",
       "  [4994, 'Universite Hassan II de Casablanca *', 'MAR'],\n",
       "  [5000, 'Haramaya University', 'ETH'],\n",
       "  [5005, 'Egyptian Russian University', 'EGY'],\n",
       "  [5065, 'University of Nairobi', 'KEN'],\n",
       "  [5080, 'Misr International University', 'EGY'],\n",
       "  [5097, 'Landmark University', 'NGA'],\n",
       "  [5104, 'Debre Markos University', 'ETH'],\n",
       "  [5188, 'Pharos University in Alexandria', 'EGY'],\n",
       "  [5231, 'Kenyatta University', 'KEN']],\n",
       " [[7999, 'Universite de Lome', 'TGO'],\n",
       "  [8026, 'Universite de Batna 2', 'DZA'],\n",
       "  [8026, 'Ekiti State University', 'NGA'],\n",
       "  [8035, 'Universite Kasdi Merbah Ouargla', 'DZA'],\n",
       "  [8049, 'Institut Superieur de Gestion de Tunis', 'TUN'],\n",
       "  [8051,\n",
       "   'Universite Mohamed El Bachir El Ibrahimi de Bordj Bou Arreridj',\n",
       "   'DZA'],\n",
       "  [8092, 'Ecole Militaire Polytechnique', 'DZA'],\n",
       "  [8096, 'Ecole Nationale des Sciences Appliquees de Agadir', 'MAR'],\n",
       "  [8108, 'Universite de Bechar', 'DZA'],\n",
       "  [8114, 'Universite de Maroua', 'CMR']],\n",
       " [[7843, 'Federal University Oye Ekiti', 'NGA'],\n",
       "  [7858, 'Federal University of Technology Owerri', 'NGA'],\n",
       "  [7872, 'Universite Badji Mokhtar - Annaba', 'DZA'],\n",
       "  [7884, 'Universite de Douala', 'CMR'],\n",
       "  [7890, 'Universite Mohamed Khider de Biskra', 'DZA'],\n",
       "  [7897, 'Faculte des Sciences de Bizerte', 'TUN'],\n",
       "  [7899, 'Universite de Parakou', 'BEN'],\n",
       "  [7908, 'Ecole Nationale Polytechnique', 'DZA'],\n",
       "  [7915, 'Delta State University', 'NGA'],\n",
       "  [7926, 'Universite Hassan 1er *', 'MAR']],\n",
       " [[7147, 'Institut National des Sciences Appliquees et de Technologie', 'TUN'],\n",
       "  [7147, 'Universite d Abomey Calavi', 'BEN'],\n",
       "  [7152, 'Universite Felix Houphouet-Boigny', 'CIV'],\n",
       "  [7158, 'Walter Sisulu University', 'ZAF'],\n",
       "  [7168, 'Universite de Jendouba', 'TUN'],\n",
       "  [7185, 'Military Technical College', 'EGY'],\n",
       "  [7193, 'University of Education', nan],\n",
       "  [7207, 'Cape Peninsula University of Technology', 'ZAF'],\n",
       "  [7220, 'Universite de Ngaoundere', 'CMR'],\n",
       "  [7223, 'University of Dodoma', 'TZA']]]"
      ]
     },
     "execution_count": 201,
     "metadata": {},
     "output_type": "execute_result"
    }
   ],
   "source": [
    "univ_rank()\n"
   ]
  },
  {
   "cell_type": "markdown",
   "id": "963cfc26",
   "metadata": {},
   "source": [
    "#### We get two random universities from every of the six sub-lists that are grouped in order of their ranks in 50's,  except for the  sublist_6 that has 14 universities\n"
   ]
  },
  {
   "cell_type": "code",
   "execution_count": 1,
   "id": "ee71d3ae",
   "metadata": {},
   "outputs": [
    {
     "ename": "ModuleNotFoundError",
     "evalue": "No module named 'africa_univ_rank'",
     "output_type": "error",
     "traceback": [
      "\u001b[1;31m---------------------------------------------------------------------------\u001b[0m",
      "\u001b[1;31mModuleNotFoundError\u001b[0m                       Traceback (most recent call last)",
      "Cell \u001b[1;32mIn[1], line 1\u001b[0m\n\u001b[1;32m----> 1\u001b[0m \u001b[38;5;28;01mfrom\u001b[39;00m \u001b[38;5;21;01mafrica_univ_rank\u001b[39;00m \u001b[38;5;28;01mimport\u001b[39;00m univ_rank\n",
      "\u001b[1;31mModuleNotFoundError\u001b[0m: No module named 'africa_univ_rank'"
     ]
    }
   ],
   "source": [
    "from africa_univ_rank import univ_rank\n"
   ]
  },
  {
   "cell_type": "code",
   "execution_count": null,
   "id": "841d5051",
   "metadata": {},
   "outputs": [],
   "source": []
  }
 ],
 "metadata": {
  "kernelspec": {
   "display_name": "Python 3 (ipykernel)",
   "language": "python",
   "name": "python3"
  },
  "language_info": {
   "codemirror_mode": {
    "name": "ipython",
    "version": 3
   },
   "file_extension": ".py",
   "mimetype": "text/x-python",
   "name": "python",
   "nbconvert_exporter": "python",
   "pygments_lexer": "ipython3",
   "version": "3.10.4"
  }
 },
 "nbformat": 4,
 "nbformat_minor": 5
}
